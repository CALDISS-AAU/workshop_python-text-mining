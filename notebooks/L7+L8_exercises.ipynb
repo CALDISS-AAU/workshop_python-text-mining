{
 "cells": [
  {
   "cell_type": "markdown",
   "metadata": {
    "slideshow": {
     "slide_type": "slide"
    }
   },
   "source": [
    "# ØVELSE: Basal web scraping\n",
    "\n",
    "Lad os prøve at skrive et program, der finder overskrifter på Berlingske (https://www.berlingske.dk/nyheder).\n",
    "\n",
    "1. Indlæs HTML-indholdet af forsiden af Berlingske med `requests.get(url).content` (husk at gemme det i et objekt)\n",
    "2. Konverter HTML-indholdet til et soup-objekt med `bs(content)` (husk at gemme det i et objekt)\n",
    "3. Print tekstindholdet af det første `<h4>` tag (brug `soup.find()` og `.get_text()`)\n",
    "\n",
    "**BONUS**\n",
    "4. Skriv et stykke kode, der udleder linket til den første artikel på https://www.berlingske.dk/nyheder (udforsk HTML enten direkte i python eller gennem din browser)"
   ]
  },
  {
   "cell_type": "markdown",
   "metadata": {
    "slideshow": {
     "slide_type": "slide"
    }
   },
   "source": [
    "# ØVELSE: Indhold i tekst\n",
    "\n",
    "Datasættet 'pol-tweets-2020_sample.csv' (https://github.com/CALDISS-AAU/workshop_python-text-mining/raw/master/data/pol-tweets-2020_sample.csv) indholder et udtræk af 500 tilfældige tweets fra danske politikere.\n",
    "\n",
    "1. Lav en variabel, der indikerer, om tweetet indeholder ordet \"klima\"\n",
    "2. Find ud af hvor mange tweets, der nævner \"klima\"\n",
    "\n",
    "**BONUS**\n",
    "3. Skriv kode (fx en visualisering), der viser, hvem der snakker meget om klima"
   ]
  },
  {
   "cell_type": "markdown",
   "metadata": {
    "slideshow": {
     "slide_type": "slide"
    }
   },
   "source": [
    "# ØVELSE: Nøgleord fra tweets\n",
    "\n",
    "Udled nøgleord (mest populære tokens) af datasættet \"pol-tweets-2020_sample\" (https://github.com/CALDISS-AAU/workshop_python-text-mining/raw/master/data/pol-tweets-2020_sample.csv).\n",
    "\n",
    "**BONUS**\n",
    "Undersøg hvem der særligt tweeter om nøgleordene."
   ]
  },
  {
   "cell_type": "markdown",
   "metadata": {
    "slideshow": {
     "slide_type": "slide"
    }
   },
   "source": [
    "# ØVELSE: Nøgleord fra overskrifter\n",
    "\n",
    "Udled nøgleord (mest populære tokens) af overskrifterne på Berlingske (https://www.berlingske.dk/nyheder)."
   ]
  }
 ],
 "metadata": {
  "celltoolbar": "Slideshow",
  "kernelspec": {
   "display_name": "Python 3",
   "language": "python",
   "name": "python3"
  },
  "language_info": {
   "codemirror_mode": {
    "name": "ipython",
    "version": 3
   },
   "file_extension": ".py",
   "mimetype": "text/x-python",
   "name": "python",
   "nbconvert_exporter": "python",
   "pygments_lexer": "ipython3",
   "version": "3.6.10"
  }
 },
 "nbformat": 4,
 "nbformat_minor": 4
}
