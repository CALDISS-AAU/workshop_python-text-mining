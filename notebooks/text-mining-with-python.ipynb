{
 "cells": [
  {
   "cell_type": "markdown",
   "metadata": {},
   "source": [
    "**Learning Objectives:**\n",
    "- Knowing different data structures for text data\n",
    "- Knowing what text mining and NLP refers to\n",
    "- Knowing the preprocessing steps for text data\n",
    "- Applying preprocessing on text\n",
    "- Manipulating and handling text data\n",
    "- Performing descriptive analysis and visualisations of text data\n",
    "\n",
    "**Evidence/Evaluation types:**\n",
    "- Check: Recognize a ceratin textual data structure\n",
    "- Able to handle and manipulate strings\n",
    "- Check: what does a certain string method do?\n",
    "- Able to match patterns with regex\n",
    "- Check: What does a certain regular expression match?\n",
    "- Able to tokenize texts\n",
    "- Check: Example of stop words\n",
    "- Able to convert texts to different data structures\n",
    "- Check: Recognize a data structure\n",
    "- Able to work with text data in pandas\n",
    "- Able to perform summary statistics on texts\n",
    "- Able to perform visualizations on text"
   ]
  },
  {
   "cell_type": "markdown",
   "metadata": {},
   "source": [
    "**Indhold:**\n",
    "\n",
    "- Hvad er text mining?\n",
    "    - Hvad er NLP?\n",
    "\n",
    "- Datastrukturer til tekst\n",
    "    - String\n",
    "    - Corpus\n",
    "    - Document-Term-Matrix\n",
    "    - Tidy text\n",
    "    - Konverter fra en datastruktur til en anden\n",
    "    \n",
    "- Arbejd med strings\n",
    "    - Strings i python\n",
    "    - Regex\n",
    "    - replace, match\n",
    "    \n",
    "- Fra tekst til tokens\n",
    "    - tokenization\n",
    "    - lemmatization\n",
    "    - stemmatization\n",
    "    - stopord\n",
    "    - både \"hjemmelavet\" og med eksisterende funktioner\n",
    "\n",
    "- n-grams\n",
    "    - n-gram tokenizers\n",
    "    \n",
    "- Tekst som pandas/tidy tekst\n",
    "    - tidy text: tekst som pandas\n",
    "    - anti_join til stopord\n",
    "    \n",
    "- Deskriptive analyser\n",
    "    - summaries/ordtællinger\n",
    "    - visualiseringer/ordskyer\n",
    "    - netværk af bigrams"
   ]
  },
  {
   "cell_type": "markdown",
   "metadata": {},
   "source": [
    "# Introduktion til 'text mining' med Python"
   ]
  },
  {
   "cell_type": "markdown",
   "metadata": {},
   "source": [
    "# {#Kapitel}Tekst som data"
   ]
  },
  {
   "cell_type": "markdown",
   "metadata": {},
   "source": [
    "# {#Afsnit}Hvad er 'text mining'?\n",
    "\n",
    "- Hvad er text mining?\n",
    "- Hvad bruges det til?\n",
    "- Check: relevans? (hvad er jeres tanker?)"
   ]
  },
  {
   "cell_type": "markdown",
   "metadata": {},
   "source": [
    "# {#Afsnit}Hvad er Natural Language Processing (NLP)?\n",
    "\n",
    "- Hvad er NLP?"
   ]
  },
  {
   "cell_type": "markdown",
   "metadata": {},
   "source": [
    "# {#Kapitel}Tekst i Python"
   ]
  },
  {
   "cell_type": "markdown",
   "metadata": {},
   "source": [
    "# {#Afsnit}Strings\n",
    "\n",
    "- Genopfriskning\n",
    "- Hele tekster som strings\n",
    "- Funktioner til strings: upper, lower, replace, \"in\" (obs!), split\n",
    "\n",
    "- Øvelse: Lav string objekt og gør bogstaver små\n",
    "- Øvelse: Indeholder string et hvis ord?"
   ]
  },
  {
   "cell_type": "code",
   "execution_count": 3,
   "metadata": {},
   "outputs": [
    {
     "data": {
      "text/plain": [
       "True"
      ]
     },
     "execution_count": 3,
     "metadata": {},
     "output_type": "execute_result"
    }
   ],
   "source": [
    "\"ged\" in \"jeg ser et gedemarked\""
   ]
  },
  {
   "cell_type": "code",
   "execution_count": 4,
   "metadata": {},
   "outputs": [
    {
     "data": {
      "text/plain": [
       "['jeg', 'er', 'en', 'ged']"
      ]
     },
     "execution_count": 4,
     "metadata": {},
     "output_type": "execute_result"
    }
   ],
   "source": [
    "\"jeg er en ged\".split(\" \")"
   ]
  },
  {
   "cell_type": "markdown",
   "metadata": {},
   "source": [
    "# {#Afsnit}Regular Expression\n",
    "\n",
    "- Hvorfor regular expression?\n",
    "- Hvordan bruges det?\n",
    "- Udled specifik tekst med regex\n",
    "- Kør funktion i for loop baseret på regex\n",
    "- Check: Tolk regex\n",
    "- Øvelse: Udled tekst baseret på regex"
   ]
  },
  {
   "cell_type": "markdown",
   "metadata": {},
   "source": [
    "# {#Kapitel}Fra tekst til datasæt"
   ]
  },
  {
   "cell_type": "markdown",
   "metadata": {},
   "source": [
    "# {#Afsnit}Datastrukturer til tekst\n",
    "\n",
    "- String\n",
    "- Corpus (dictionary)\n",
    "- Document-Term-Matrix (?? - pandas?)\n",
    "- Tidy text (pandas)"
   ]
  },
  {
   "cell_type": "markdown",
   "metadata": {},
   "source": [
    "# {#Afsnit}Tekst som tokens\n",
    "\n",
    "- Gennemgå tokenization skridt\n",
    "- lower-case, split, lemma, stemma, stopord\n",
    "- n-grams\n",
    "- Brug af andre pakker til tokenization\n",
    "\n",
    "- Øvelse: tokenize en tekst"
   ]
  },
  {
   "cell_type": "markdown",
   "metadata": {},
   "source": [
    "# {#Afsnit}Tidy tekst data med pandas\n",
    "\n",
    "- Token list til pandas serie\n",
    "- corpus til data frame\n",
    "- Konvertering til tidy tekst\n",
    "- Fjern stopord med anti-join\n",
    "- Øvelse: Lav et tidy tekst data sæt (med eksisterende tokenizer)"
   ]
  },
  {
   "cell_type": "code",
   "execution_count": 1,
   "metadata": {},
   "outputs": [],
   "source": [
    "import pandas as pd\n",
    "\n",
    "my_corp = {\"cat\": \"The little cat is a piece of shit and it should BURN!\", \n",
    "           \"dog\": \"Everyone hates dog but not the other dog. Why dog? Why?\",\n",
    "          \"goat\": \"The enormous goat has had ENOUGH. You should listen to goat.\"}\n",
    "\n",
    "corp_df = pd.DataFrame.from_dict(my_corp, orient = \"index\", columns = [\"text\"])\n",
    "corp_df = corp_df.reset_index()\n",
    "corp_df = corp_df.rename(columns = {\"index\": \"name\"})\n",
    "\n",
    "corp_df['tokens'] = corp_df['text'].str.lower()\n",
    "corp_df['tokens'] = corp_df['tokens'].str.replace(\".\", \"\")\n",
    "corp_df['tokens'] = corp_df['tokens'].str.replace(\"!\", \"\")\n",
    "corp_df['tokens'] = corp_df['tokens'].str.replace(\"?\", \"\")\n",
    "corp_df['tokens'] = corp_df['tokens'].str.replace(\",\", \"\")\n",
    "corp_df = corp_df.set_index(['name', 'text']).apply(lambda s: s.str.split(\" \").explode()).reset_index()\n",
    "\n",
    "corp_df_count = corp_df.groupby(['name', 'tokens']).size().reset_index().rename(columns = {0: \"count\"})"
   ]
  },
  {
   "cell_type": "code",
   "execution_count": 86,
   "metadata": {},
   "outputs": [
    {
     "data": {
      "text/plain": [
       "<matplotlib.axes._subplots.AxesSubplot at 0x22e0d5cb240>"
      ]
     },
     "execution_count": 86,
     "metadata": {},
     "output_type": "execute_result"
    },
    {
     "data": {
      "image/png": "[encoded data removed]",
      "text/plain": [
       "<Figure size 1440x432 with 1 Axes>"
      ]
     },
     "metadata": {
      "needs_background": "light"
     },
     "output_type": "display_data"
    }
   ],
   "source": [
    "import matplotlib.pyplot as plt\n",
    "import seaborn as sns \n",
    "%matplotlib inline \n",
    "\n",
    "plt.figure(figsize=(20,6))\n",
    "sns.set(style=\"whitegrid\")\n",
    "\n",
    "sns.countplot(x=\"tokens\", hue = \"name\", data=corp_df)"
   ]
  },
  {
   "cell_type": "markdown",
   "metadata": {},
   "source": [
    "# {#Kapitel}Deskriptive analyser med tekst"
   ]
  },
  {
   "cell_type": "markdown",
   "metadata": {},
   "source": [
    "# {#Afsnit}Nøgleord\n",
    "\n",
    "- Ordtællinger og frekvenser i pandas"
   ]
  },
  {
   "cell_type": "markdown",
   "metadata": {},
   "source": [
    "# {#Afsnit}Visualiseringer\n",
    "\n",
    "- Ordskyer\n",
    "- Søjler"
   ]
  },
  {
   "cell_type": "markdown",
   "metadata": {},
   "source": [
    "# {#Afsnit}Ord som netværk\n",
    "\n",
    "- n-grams som netværk"
   ]
  },
  {
   "cell_type": "markdown",
   "metadata": {},
   "source": [
    "# {#Kapitel}Supplerende materiale"
   ]
  },
  {
   "cell_type": "markdown",
   "metadata": {},
   "source": [
    "# {#Afsnit}Litteratur\n",
    "\n",
    "https://www.tidytextmining.com/\n",
    "\n",
    "https://www.nltk.org/\n",
    "\n",
    "https://medium.com/towards-artificial-intelligence/text-mining-in-python-steps-and-examples-78b3f8fd913b\n",
    "\n",
    "https://www.tutorialspoint.com/natural_language_processing/natural_language_processing_python.htm\n",
    "\n",
    "- Python for Data Analysis, kap 7 (string manipulation)"
   ]
  },
  {
   "cell_type": "markdown",
   "metadata": {},
   "source": [
    "# {END}"
   ]
  }
 ],
 "metadata": {
  "kernelspec": {
   "display_name": "Python 3",
   "language": "python",
   "name": "python3"
  },
  "language_info": {
   "codemirror_mode": {
    "name": "ipython",
    "version": 3
   },
   "file_extension": ".py",
   "mimetype": "text/x-python",
   "name": "python",
   "nbconvert_exporter": "python",
   "pygments_lexer": "ipython3",
   "version": "3.6.10"
  }
 },
 "nbformat": 4,
 "nbformat_minor": 4
}
